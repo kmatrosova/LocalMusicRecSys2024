{
 "cells": [
  {
   "cell_type": "code",
   "execution_count": 8,
   "metadata": {},
   "outputs": [],
   "source": [
    "import pandas as pd\n",
    "import numpy as np\n",
    "from tqdm import tqdm"
   ]
  },
  {
   "cell_type": "code",
   "execution_count": null,
   "metadata": {},
   "outputs": [],
   "source": [
    "# doublons dans la base deezer ?"
   ]
  },
  {
   "cell_type": "code",
   "execution_count": 9,
   "metadata": {},
   "outputs": [],
   "source": [
    "df = pd.read_csv('dataset/DEEZER_GLOBAL/DEEZER_GLOBAL.inter')"
   ]
  },
  {
   "cell_type": "code",
   "execution_count": 10,
   "metadata": {},
   "outputs": [],
   "source": [
    "df = df[df.columns[:2]]"
   ]
  },
  {
   "cell_type": "code",
   "execution_count": 11,
   "metadata": {},
   "outputs": [],
   "source": [
    "users = set(df['user_id:token'].tolist())"
   ]
  },
  {
   "cell_type": "code",
   "execution_count": 12,
   "metadata": {},
   "outputs": [
    {
     "name": "stderr",
     "output_type": "stream",
     "text": [
      "100%|██████████| 29981/29981 [01:49<00:00, 274.62it/s]\n"
     ]
    }
   ],
   "source": [
    "usr_histories = dict()\n",
    "for usr in tqdm(users):\n",
    "    df_user = df[df['user_id:token'] == usr]\n",
    "    usr_histories[usr] = set(df_user['item_id:token'].tolist())"
   ]
  },
  {
   "cell_type": "code",
   "execution_count": 17,
   "metadata": {},
   "outputs": [
    {
     "data": {
      "text/plain": [
       "(2,)"
      ]
     },
     "execution_count": 17,
     "metadata": {},
     "output_type": "execute_result"
    }
   ],
   "source": [
    "sim_matrix = np.zeros((len(users), len(users)))\n",
    "sim_matrix.shape"
   ]
  },
  {
   "cell_type": "code",
   "execution_count": 20,
   "metadata": {},
   "outputs": [
    {
     "name": "stderr",
     "output_type": "stream",
     "text": [
      "100%|██████████| 29981/29981 [10:43<00:00, 46.57it/s] \n"
     ]
    }
   ],
   "source": [
    "sim_matrix = np.zeros((len(users), len(users)))\n",
    "users_list = list(users)\n",
    "for i in tqdm(range(sim_matrix.shape[0])):\n",
    "    for j in range(i):\n",
    "        are_hist_equals = (usr_histories[users_list[i]] == usr_histories[users_list[j]])\n",
    "        sim_matrix[i, j] = are_hist_equals\n",
    "        sim_matrix[j, i] = are_hist_equals\n",
    "    sim_matrix[i, i] = False\n",
    "\n",
    "\n",
    "    "
   ]
  },
  {
   "cell_type": "code",
   "execution_count": 21,
   "metadata": {},
   "outputs": [
    {
     "data": {
      "text/plain": [
       "278.0"
      ]
     },
     "execution_count": 21,
     "metadata": {},
     "output_type": "execute_result"
    }
   ],
   "source": [
    "np.sum(sim_matrix)"
   ]
  },
  {
   "cell_type": "code",
   "execution_count": null,
   "metadata": {},
   "outputs": [],
   "source": [
    "indices = np.where(sim_matrix)"
   ]
  },
  {
   "cell_type": "code",
   "execution_count": 46,
   "metadata": {},
   "outputs": [],
   "source": [
    "repetitive_couples = list(zip(list(indices[0]), list(indices[1])))"
   ]
  },
  {
   "cell_type": "code",
   "execution_count": 53,
   "metadata": {},
   "outputs": [],
   "source": [
    "import networkx as nx"
   ]
  },
  {
   "cell_type": "code",
   "execution_count": 68,
   "metadata": {},
   "outputs": [
    {
     "data": {
      "image/png": "[encoded data removed]",
      "text/plain": [
       "<Figure size 640x480 with 1 Axes>"
      ]
     },
     "metadata": {},
     "output_type": "display_data"
    }
   ],
   "source": [
    "import matplotlib.pyplot as plt\n",
    "\n",
    "\n",
    "G = nx.Graph()  # For an undirected graph\n",
    "\n",
    "G.add_edges_from(repetitive_couples)\n",
    "\n",
    "# Draw the graph\n",
    "pos = nx.spring_layout(G)  # Layout for the graph\n",
    "nx.draw(G, pos, with_labels=False, node_size=2, node_color=\"skyblue\", edge_color=\"black\", width = 1)\n",
    "\n",
    "# Show the graph\n",
    "plt.show()"
   ]
  },
  {
   "cell_type": "code",
   "execution_count": 70,
   "metadata": {},
   "outputs": [
    {
     "data": {
      "text/plain": [
       "[{2592932862, 2620271342, 2640517322, 2643209202, 2646575382},\n",
       " {2353481548, 2644980162},\n",
       " {1653815626, 1877662526},\n",
       " {800380035, 2621276542, 2646041562},\n",
       " {2342116608, 2583617922},\n",
       " {2549671962, 2616731182},\n",
       " {2508180662, 2605612402},\n",
       " {2037916502, 2452152504, 2524034642},\n",
       " {11320700, 51908011, 537174035},\n",
       " {1366748484, 2243637524},\n",
       " {1550983606, 1609426102, 1998482626, 2558558322, 2632952222},\n",
       " {1163592102, 2336714604},\n",
       " {774092167, 1216057146, 2349320608},\n",
       " {1287889688, 2595536462},\n",
       " {182649811, 1957664582},\n",
       " {1450196666, 2029821466},\n",
       " {947472583, 2165913508, 2495723266, 2589490562, 2646721362},\n",
       " {2455694584, 2607307182},\n",
       " {228169643, 1573154886},\n",
       " {1438193626, 2604903602},\n",
       " {35364501, 2445056064},\n",
       " {1459691162, 2208838844},\n",
       " {1484010122, 2233273424, 2521875162},\n",
       " {1806295642, 2419300964},\n",
       " {1595548982, 2508468502},\n",
       " {14795976, 2643455522},\n",
       " {1087570948, 1211535986, 1858617466, 2149738926},\n",
       " {847671483, 1252864686, 2478662588},\n",
       " {1741877126, 2251913448},\n",
       " {2529264082, 2633022342},\n",
       " {182947113, 2461888288},\n",
       " {808280445, 2378876148},\n",
       " {1254673266, 1624103746, 2114742426, 2475072248},\n",
       " {2590413222, 2640351682, 2643445962},\n",
       " {2602297662, 2635306362},\n",
       " {201068915, 625182941},\n",
       " {1237146322, 2037659186},\n",
       " {2574294622, 2591692882},\n",
       " {727939553, 2602760782},\n",
       " {865098033, 1608808226, 2445520684, 2500934986},\n",
       " {852877181, 2289573304},\n",
       " {713322043, 2298754088, 2538060126},\n",
       " {2545578062, 2645065522},\n",
       " {1185516602, 1264387024},\n",
       " {81152811, 1234074942},\n",
       " {1826329766, 2642015262},\n",
       " {2210994464, 2611298722},\n",
       " {1367403004, 2350687824},\n",
       " {2348954844, 2456721804},\n",
       " {224831423, 2643479322},\n",
       " {490643361, 2471926264},\n",
       " {788816167, 2626380502},\n",
       " {42575481, 1862056302},\n",
       " {1467134242, 1796504602},\n",
       " {2627528962, 2642697042},\n",
       " {5621570, 445456401},\n",
       " {590102191, 2388482944},\n",
       " {2378892124, 2647095902},\n",
       " {736261195, 786015305, 1466275746},\n",
       " {2502257802, 2611898642},\n",
       " {681414421, 2257090004},\n",
       " {2215380904, 2524315362},\n",
       " {1351701184, 2601618922},\n",
       " {816880595, 2254671048},\n",
       " {1903773542, 2258591784, 2637748462},\n",
       " {1355489868, 2237486804},\n",
       " {1546263186, 2324466068},\n",
       " {2206771404, 2567615762},\n",
       " {156574943, 2642473822},\n",
       " {441845671, 599644011},\n",
       " {1892219966, 2638640222},\n",
       " {600608427, 2080296246},\n",
       " {2604797382, 2629755942},\n",
       " {707880663, 2647739242},\n",
       " {124448511, 412769481},\n",
       " {1788562226, 2323045488},\n",
       " {1264032184, 2294173764}]"
      ]
     },
     "execution_count": 70,
     "metadata": {},
     "output_type": "execute_result"
    }
   ],
   "source": [
    "list(nx.connected_components(G))"
   ]
  },
  {
   "cell_type": "code",
   "execution_count": null,
   "metadata": {},
   "outputs": [],
   "source": []
  }
 ],
 "metadata": {
  "kernelspec": {
   "display_name": "Python 3",
   "language": "python",
   "name": "python3"
  },
  "language_info": {
   "codemirror_mode": {
    "name": "ipython",
    "version": 3
   },
   "file_extension": ".py",
   "mimetype": "text/x-python",
   "name": "python",
   "nbconvert_exporter": "python",
   "pygments_lexer": "ipython3",
   "version": "3.9.6"
  }
 },
 "nbformat": 4,
 "nbformat_minor": 2
}
