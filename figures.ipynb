{
 "cells": [
  {
   "cell_type": "code",
   "execution_count": null,
   "id": "f1cb5ece-158a-4221-9713-058e08e7047e",
   "metadata": {
    "tags": []
   },
   "outputs": [],
   "source": [
    "import pickle\n",
    "import numpy as np\n",
    "import pandas as pd\n",
    "import seaborn as sns\n",
    "import matplotlib.pyplot as plt"
   ]
  },
  {
   "cell_type": "code",
   "execution_count": null,
   "id": "b2520d19-b99a-4968-bac8-5c1546512ae3",
   "metadata": {
    "tags": []
   },
   "outputs": [],
   "source": [
    "import warnings\n",
    "warnings.filterwarnings(\"ignore\")"
   ]
  },
  {
   "cell_type": "code",
   "execution_count": null,
   "id": "b440384b-ec99-4883-af0e-aea012c7b3d3",
   "metadata": {
    "tags": []
   },
   "outputs": [],
   "source": [
    "sns.set_theme()"
   ]
  },
  {
   "cell_type": "code",
   "execution_count": null,
   "id": "c6e539be-12d9-42f5-9f55-15aee419a462",
   "metadata": {
    "tags": []
   },
   "outputs": [],
   "source": [
    "proportion_local = []\n",
    "\n",
    "for dataset in ['DEEZER', 'LFM']:\n",
    "    for country in ['DE', 'BR', 'FR']:\n",
    "        f = dataset + '_' + country\n",
    "        # original data\n",
    "        df = pd.read_csv('data/' + f + '/' + f + '.inter')\n",
    "        df = df.rename(columns={'user_id:token': 'user_id' , 'item_id:token': 'media_id'})\n",
    "        metadata = pd.read_csv('data/metadata_' + dataset + '.csv')[['media_id', 'country']]\n",
    "        df = pd.merge(df, metadata, on=['media_id'], how='left')\n",
    "        proportion_local.append([dataset,\n",
    "                                 country,\n",
    "                                 df['country'].value_counts(normalize=True)[country]])\n",
    "        \n",
    "proportion_local = pd.DataFrame(proportion_local, columns=['Dataset', 'Country', 'Proportion of local streams'])\n",
    "sns.barplot(proportion_local, x='Country', y='Proportion of local streams', hue='Dataset')\n",
    "plt.legend(title='')\n",
    "plt.xlabel('')\n",
    "plt.savefig('figures/1.pdf')"
   ]
  },
  {
   "cell_type": "code",
   "execution_count": null,
   "id": "b4d22552-c198-42b8-a6c4-cc2c1374b5c7",
   "metadata": {
    "tags": []
   },
   "outputs": [],
   "source": [
    "# Dataset - Figure 2.1: Distribution of local streams proportion for each user\n",
    "# LFM dataset\n",
    "\n",
    "for dataset in ['LFM', 'DEEZER']:\n",
    "    \n",
    "    res = []\n",
    "    \n",
    "    for country in ['DE', 'FR', 'BR']:\n",
    "        \n",
    "        # original data\n",
    "        f = dataset + '_' + country\n",
    "        df = pd.read_csv('data/' + f + '/' + f + '.inter')\n",
    "        df = df.rename(columns={'user_id:token': 'user_id' , 'item_id:token': 'media_id'})\n",
    "        metadata = pd.read_csv('data/metadata_' + dataset + '.csv')\n",
    "        df = pd.merge(df, metadata, on=['media_id'], how='left')[['user_id', 'media_id', 'country']]\n",
    "        df['user_nb_streams'] = df.groupby(['user_id'])['user_id'].transform('count')\n",
    "        df['user_nb_streams_local'] = df[df['country'] == country].groupby(['user_id'])['user_id'].transform('count')\n",
    "        df['user_nb_streams_local'] = df['user_nb_streams_local'].fillna(0)\n",
    "        df = df.groupby(['user_id']).first()\n",
    "        df['ratio_local'] = df['user_nb_streams_local'] / df['user_nb_streams']\n",
    "        df = df.sort_values(by=['ratio_local'], ascending=False).reset_index()\n",
    "        for r in df['ratio_local'].to_list():\n",
    "            res.append([country, r])\n",
    "\n",
    "    res = pd.DataFrame(res, columns=['Country', 'Proportion of local streams per user'])\n",
    "    sns.histplot(data=res, x='Proportion of local streams per user', hue='Country', bins=10, stat='probability', element=\"poly\")\n",
    "    if dataset == 'deezer':\n",
    "        plt.legend('',frameon=False)\n",
    "    plt.xlabel('Proportion of local streams per user \\n\\n (' + dataset + ')')\n",
    "    plt.xticks(np.arange(0, 1, step=0.2))\n",
    "    plt.show()\n",
    "    plt.savefig('figures/2-' + dataset + '.pdf')\n",
    "    plt.close()\n",
    "    "
   ]
  },
  {
   "cell_type": "code",
   "execution_count": null,
   "id": "c78f6816-20e0-49e4-8bc0-ec415a8c919d",
   "metadata": {
    "tags": []
   },
   "outputs": [],
   "source": [
    "proportion_local = []\n",
    "\n",
    "for country in ['FR', 'DE', 'BR', 'RU', 'IT']:\n",
    "    \n",
    "    users = pd.read_csv('data/LFM_GLOBAL/demo.txt', delimiter='\\t', names=['user_country', 'age', 'sex', 'date'])\n",
    "    users = users.index[users['user_country'] == country].unique().to_list()\n",
    "    \n",
    "    # original data\n",
    "    df = pd.read_csv('data/LFM_GLOBAL/LFM_GLOBAL.inter')\n",
    "    df = df.rename(columns={'user_id:token': 'user_id', 'item_id:token': 'media_id'})\n",
    "    df = df[df['user_id'].isin(users)]\n",
    "    metadata = pd.read_csv('data/LFM_GLOBAL/tracks.txt', delimiter='\\t', names=['artist', 'title', 'country'])\n",
    "    metadata['media_id'] = metadata.index\n",
    "    df = pd.merge(df, metadata, on=['media_id'], how='left')\n",
    "    proportion_local.append([country,\n",
    "                             df['country'].value_counts(normalize=True)[country],\n",
    "                             'dataset'])\n",
    "\n",
    "    # recommendation results\n",
    "    for model in ['NeuMF', 'ItemKNN']:\n",
    "        df2 = pd.read_csv('predicted/LFM/GLOBAL/' + model + '.csv')\n",
    "        df2 = df2[df2['user_id'].isin(users)]\n",
    "        df2 = pd.merge(df2, metadata, on=['media_id'], how='left')\n",
    "        \n",
    "        proportion_local.append([country,\n",
    "                             df2['country'].value_counts(normalize=True)[country],\n",
    "                             model])\n",
    "\n",
    "proportion_local = pd.DataFrame(proportion_local, columns=['Country', '% local streams', 'data'])\n",
    "sns.barplot(proportion_local, x='Country', y='% local streams', hue='data')\n",
    "#plt.savefig('../../figures/3-1.pdf')"
   ]
  },
  {
   "cell_type": "code",
   "execution_count": null,
   "id": "f6f4ba2d-3426-45fe-bbf5-a8f6d7b43637",
   "metadata": {
    "tags": []
   },
   "outputs": [],
   "source": [
    "proportion_local = []\n",
    "\n",
    "dataset = 'LFM'\n",
    "\n",
    "for country in ['FR', 'DE', 'BR', 'RU', 'IT']:\n",
    "    # original data\n",
    "    f = dataset + '_' + country\n",
    "    df = pd.read_csv('data/' + f + '/' + f + '.inter')\n",
    "    df = df.rename(columns={'user_id:token': 'user_id' , 'item_id:token': 'media_id'})\n",
    "    metadata = pd.read_csv('data/metadata_' + dataset + '.csv')[['media_id', 'country']]\n",
    "    df = pd.merge(df, metadata, on=['media_id'], how='left')\n",
    "    proportion_local.append(['dataset',\n",
    "                             country,\n",
    "                             df['country'].value_counts(normalize=True)[country]])\n",
    "    # recommendation results\n",
    "    for model in ['NeuMF', 'ItemKNN']:\n",
    "        df2 = pd.read_csv('predicted/' + dataset + '/' + country + '/' + model + '.csv')\n",
    "        df2 = pd.merge(df2, metadata, on=['media_id'], how='left')\n",
    "        proportion_local.append([model,\n",
    "                                 country,\n",
    "                                 df2['country'].value_counts(normalize=True)[country]])\n",
    "        \n",
    "proportion_local = pd.DataFrame(proportion_local, columns=['Data', 'Country', '% local streams'])\n",
    "sns.barplot(proportion_local, x='Country', y='% local streams', hue='Data')"
   ]
  },
  {
   "cell_type": "code",
   "execution_count": null,
   "id": "ed2454e4-606f-4bbe-870b-adf019e4eec4",
   "metadata": {},
   "outputs": [],
   "source": [
    "proportion_local = []\n",
    "\n",
    "dataset = 'DEEZER'\n",
    "\n",
    "for country in ['DE', 'FR', 'BR']:\n",
    "    # original data\n",
    "    f = dataset + '_' + country\n",
    "    df = pd.read_csv('data/' + f + '/' + f + '.inter')\n",
    "    df = df.rename(columns={'user_id:token': 'user_id' , 'item_id:token': 'media_id'})\n",
    "    metadata = pd.read_csv('data/metadata_' + dataset + '.csv')[['media_id', 'country']]\n",
    "    df = pd.merge(df, metadata, on=['media_id'], how='left')\n",
    "    proportion_local.append(['dataset',\n",
    "                             country,\n",
    "                             df['country'].value_counts(normalize=True)[country]])\n",
    "    # recommendation results\n",
    "    for model in ['NeuMF', 'ItemKNN']:\n",
    "        df2 = pd.read_csv('predicted/' + dataset + '/' + country + '/' + model + '.csv')\n",
    "        df2 = pd.merge(df2, metadata, on=['media_id'], how='left')\n",
    "        proportion_local.append([model,\n",
    "                                 country,\n",
    "                                 df2['country'].value_counts(normalize=True)[country]])\n",
    "        \n",
    "proportion_local = pd.DataFrame(proportion_local, columns=['Data', 'Country', '% local streams'])\n",
    "sns.barplot(proportion_local, x='Country', y='% local streams', hue='Data')"
   ]
  },
  {
   "cell_type": "code",
   "execution_count": null,
   "id": "555c803c-3536-45ca-a2e4-c98c145a5d3c",
   "metadata": {},
   "outputs": [],
   "source": []
  }
 ],
 "metadata": {
  "kernelspec": {
   "display_name": "Python 3 (ipykernel)",
   "language": "python",
   "name": "python3"
  },
  "language_info": {
   "codemirror_mode": {
    "name": "ipython",
    "version": 3
   },
   "file_extension": ".py",
   "mimetype": "text/x-python",
   "name": "python",
   "nbconvert_exporter": "python",
   "pygments_lexer": "ipython3",
   "version": "3.10.12"
  }
 },
 "nbformat": 4,
 "nbformat_minor": 5
}
