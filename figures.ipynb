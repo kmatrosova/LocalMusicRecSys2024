{
 "cells": [
  {
   "cell_type": "code",
   "execution_count": null,
   "metadata": {},
   "outputs": [],
   "source": [
    "%load_ext autoreload\n",
    "\n",
    "%autoreload 2"
   ]
  },
  {
   "cell_type": "code",
   "execution_count": null,
   "metadata": {},
   "outputs": [],
   "source": [
    "from helpers import MetadataProcesor, MakePlots\n",
    "import pandas as pd"
   ]
  },
  {
   "cell_type": "code",
   "execution_count": null,
   "metadata": {},
   "outputs": [],
   "source": [
    "N_TRIES = 1\n",
    "K_VALUES = range(10, 101, 5)"
   ]
  },
  {
   "cell_type": "code",
   "execution_count": null,
   "metadata": {},
   "outputs": [],
   "source": [
    "LFM_metadata_file_name = 'metadata_LFM'\n",
    "DEEZER_metadata_file_name = 'metadata_DEEZER_musicbrainz'\n",
    "\n",
    "metadata = MetadataProcesor(LFM_metadata_file_name, DEEZER_metadata_file_name)\n",
    "metadata.process()"
   ]
  },
  {
   "cell_type": "code",
   "execution_count": null,
   "metadata": {},
   "outputs": [],
   "source": [
    "plots_maker = MakePlots(metadata.metadata, k_values=K_VALUES, matadata_filename = DEEZER_metadata_file_name)\n",
    "plots_maker.load_predictions(n_tries = N_TRIES)\n",
    "plots_maker.load_datasets()\n",
    "\n",
    "plots_maker.plot_dataset_local_streams_percents(save=True)\n",
    "plots_maker.plot_local_listening_distribution_hist(save=True)\n",
    "\n",
    "plots_maker.compute_reco_results()\n",
    "plots_maker.plot_bias_topk_k_reco(save=True)"
   ]
  }
 ],
 "metadata": {
  "kernelspec": {
   "display_name": ".venv",
   "language": "python",
   "name": "python3"
  },
  "language_info": {
   "codemirror_mode": {
    "name": "ipython",
    "version": 3
   },
   "file_extension": ".py",
   "mimetype": "text/x-python",
   "name": "python",
   "nbconvert_exporter": "python",
   "pygments_lexer": "ipython3",
   "version": "3.10.12"
  }
 },
 "nbformat": 4,
 "nbformat_minor": 2
}
