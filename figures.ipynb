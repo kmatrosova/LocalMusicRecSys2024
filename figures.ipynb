{
 "cells": [
  {
   "cell_type": "code",
   "execution_count": 1,
   "id": "f1cb5ece-158a-4221-9713-058e08e7047e",
   "metadata": {
    "tags": []
   },
   "outputs": [],
   "source": [
    "import pickle\n",
    "import numpy as np\n",
    "import pandas as pd\n",
    "import seaborn as sns\n",
    "import matplotlib.pyplot as plt\n",
    "from tqdm import tqdm\n",
    "import os\n",
    "import plotly.express as px\n"
   ]
  },
  {
   "cell_type": "code",
   "execution_count": 2,
   "id": "b2520d19-b99a-4968-bac8-5c1546512ae3",
   "metadata": {
    "tags": []
   },
   "outputs": [],
   "source": [
    "import warnings\n",
    "warnings.filterwarnings(\"ignore\")"
   ]
  },
  {
   "cell_type": "code",
   "execution_count": 3,
   "id": "b440384b-ec99-4883-af0e-aea012c7b3d3",
   "metadata": {
    "tags": []
   },
   "outputs": [],
   "source": [
    "sns.set_theme()"
   ]
  },
  {
   "cell_type": "code",
   "execution_count": null,
   "id": "c6e539be-12d9-42f5-9f55-15aee419a462",
   "metadata": {
    "tags": []
   },
   "outputs": [],
   "source": [
    "proportion_local = []\n",
    "\n",
    "for dataset in ['DEEZER', 'LFM']:\n",
    "    for country in ['DE', 'BR', 'FR']:\n",
    "        f = dataset + '_' + country\n",
    "        # original data\n",
    "        df = pd.read_csv('dataset/' + f + '/' + f + '.inter')\n",
    "        df = df.rename(columns={'user_id:token': 'user_id' , 'item_id:token': 'media_id'})\n",
    "        metadata = pd.read_csv('dataset/metadata_' + dataset + '.csv')[['media_id', 'country']]\n",
    "        df = pd.merge(df, metadata, on=['media_id'], how='left')\n",
    "        proportion_local.append([dataset,\n",
    "                                 country,\n",
    "                                 df['country'].value_counts(normalize=True)[country]])\n",
    "        \n",
    "proportion_local = pd.DataFrame(proportion_local, columns=['Dataset', 'Country', 'Proportion of local streams'])\n",
    "sns.barplot(proportion_local, x='Country', y='Proportion of local streams', hue='Dataset')\n",
    "plt.legend(title='')\n",
    "plt.xlabel('')\n",
    "plt.savefig('figures/1.pdf')"
   ]
  },
  {
   "cell_type": "code",
   "execution_count": null,
   "id": "b4d22552-c198-42b8-a6c4-cc2c1374b5c7",
   "metadata": {
    "tags": []
   },
   "outputs": [],
   "source": [
    "# Dataset - Figure 2.1: Distribution of local streams proportion for each user\n",
    "# LFM dataset\n",
    "\n",
    "for dataset in ['DEEZER', 'LFM']:\n",
    "    \n",
    "    res = []\n",
    "    \n",
    "    for country in ['DE', 'FR', 'BR']:\n",
    "        \n",
    "        # original data\n",
    "        f = dataset + '_' + country\n",
    "        df = pd.read_csv('dataset/' + f + '/' + f + '.inter')\n",
    "        df = df.rename(columns={'user_id:token': 'user_id' , 'item_id:token': 'media_id'})\n",
    "        metadata = pd.read_csv('dataset/metadata_' + dataset + '.csv')\n",
    "        df = pd.merge(df, metadata, on=['media_id'], how='left')[['user_id', 'media_id', 'country']]\n",
    "        df['user_nb_streams'] = df.groupby(['user_id'])['user_id'].transform('count')\n",
    "        df['user_nb_streams_local'] = df[df['country'] == country].groupby(['user_id'])['user_id'].transform('count')\n",
    "        df['user_nb_streams_local'] = df['user_nb_streams_local'].fillna(0)\n",
    "        df = df.groupby(['user_id']).first()\n",
    "        df['ratio_local'] = df['user_nb_streams_local'] / df['user_nb_streams']\n",
    "        df = df.sort_values(by=['ratio_local'], ascending=False).reset_index()\n",
    "        for r in df['ratio_local'].to_list():\n",
    "            res.append([country, r])\n",
    "\n",
    "    res = pd.DataFrame(res, columns=['Country', 'Proportion of local streams per user'])\n",
    "    sns.histplot(data=res, x='Proportion of local streams per user', hue='Country', bins=10, stat='probability', element=\"poly\")\n",
    "    if dataset == 'deezer':\n",
    "        plt.legend('',frameon=False)\n",
    "    plt.xlabel('Proportion of local streams per user \\n\\n (' + dataset + ')')\n",
    "    plt.xticks(np.arange(0, 1, step=0.2))\n",
    "    plt.show()\n",
    "    plt.savefig('figures/2-' + dataset + '.pdf')\n",
    "    plt.close()\n",
    "    "
   ]
  },
  {
   "cell_type": "code",
   "execution_count": null,
   "id": "c78f6816-20e0-49e4-8bc0-ec415a8c919d",
   "metadata": {
    "tags": []
   },
   "outputs": [],
   "source": [
    "proportion_local = []\n",
    "\n",
    "for country in ['FR', 'DE', 'BR']:\n",
    "    \n",
    "    users = pd.read_csv('dataset/LFM_GLOBAL/demo.txt', delimiter='\\t', names=['user_country', 'age', 'sex', 'date'])\n",
    "    users = users.index[users['user_country'] == country].unique().to_list()\n",
    "    \n",
    "    # original data\n",
    "    df = pd.read_csv('dataset/LFM_GLOBAL/LFM_GLOBAL.inter')\n",
    "    df = df.rename(columns={'user_id:token': 'user_id', 'item_id:token': 'media_id'})\n",
    "    df = df[df['user_id'].isin(users)]\n",
    "    metadata = pd.read_csv('dataset/LFM_GLOBAL/tracks.txt', delimiter='\\t', names=['artist', 'title', 'country'])\n",
    "    metadata['media_id'] = metadata.index\n",
    "    df = pd.merge(df, metadata, on=['media_id'], how='left')\n",
    "    proportion_local.append([country,\n",
    "                             df['country'].value_counts(normalize=True)[country],\n",
    "                             'dataset'])\n",
    "\n",
    "    # recommendation results\n",
    "    for model in ['NeuMF', 'ItemKNN']:\n",
    "        filename = os.listdir('predicted/LFM/GLOBAL/' + model)[0]\n",
    "        df2 = pd.read_csv('predicted/LFM/GLOBAL/' + model + '/' + filename)\n",
    "        df2 = df2[df2['user_id'].isin(users)]\n",
    "        df2 = pd.merge(df2, metadata, on=['media_id'], how='left')\n",
    "        \n",
    "        proportion_local.append([country,\n",
    "                             df2['country'].value_counts(normalize=True)[country],\n",
    "                             model])\n",
    "\n",
    "proportion_local = pd.DataFrame(proportion_local, columns=['Country', '% local streams', 'data'])\n",
    "sns.barplot(proportion_local, x='Country', y='% local streams', hue='data')\n",
    "plt.savefig('../../figures/3-1.pdf')"
   ]
  },
  {
   "cell_type": "code",
   "execution_count": null,
   "id": "f6f4ba2d-3426-45fe-bbf5-a8f6d7b43637",
   "metadata": {
    "tags": []
   },
   "outputs": [],
   "source": [
    "proportion_local = []\n",
    "\n",
    "dataset = 'LFM'\n",
    "\n",
    "for country in ['FR', 'DE', 'BR']:\n",
    "    # original data\n",
    "    f = dataset + '_' + country\n",
    "    df = pd.read_csv('dataset/' + f + '/' + f + '.inter')\n",
    "    df = df.rename(columns={'user_id:token': 'user_id' , 'item_id:token': 'media_id'})\n",
    "    metadata = pd.read_csv('dataset/metadata_' + dataset + '.csv')[['media_id', 'country']]\n",
    "    df = pd.merge(df, metadata, on=['media_id'], how='left')\n",
    "    proportion_local.append(['dataset',\n",
    "                             country,\n",
    "                             df['country'].value_counts(normalize=True)[country]])\n",
    "    # recommendation results\n",
    "    for model in ['NeuMF', 'ItemKNN']:\n",
    "        df2 = pd.read_csv('predicted/' + dataset + '/' + country + '/' + model + '.csv')\n",
    "        df2 = pd.merge(df2, metadata, on=['media_id'], how='left')\n",
    "        proportion_local.append([model,\n",
    "                                 country,\n",
    "                                 df2['country'].value_counts(normalize=True)[country]])\n",
    "        \n",
    "proportion_local = pd.DataFrame(proportion_local, columns=['Data', 'Country', '% local streams'])\n",
    "sns.barplot(proportion_local, x='Country', y='% local streams', hue='Data')"
   ]
  },
  {
   "cell_type": "code",
   "execution_count": null,
   "id": "ed2454e4-606f-4bbe-870b-adf019e4eec4",
   "metadata": {},
   "outputs": [],
   "source": [
    "proportion_local = []\n",
    "\n",
    "dataset = 'DEEZER'\n",
    "\n",
    "for country in ['DE', 'FR', 'BR']:\n",
    "    # original data\n",
    "    f = dataset + '_' + country\n",
    "    df = pd.read_csv('dataset/' + f + '/' + f + '.inter')\n",
    "    df = df.rename(columns={'user_id:token': 'user_id' , 'item_id:token': 'media_id'})\n",
    "    metadata = pd.read_csv('dataset/metadata_' + dataset + '.csv')[['media_id', 'country']]\n",
    "    df = pd.merge(df, metadata, on=['media_id'], how='left')\n",
    "    proportion_local.append(['dataset',\n",
    "                             country,\n",
    "                             df['country'].value_counts(normalize=True)[country]])\n",
    "    # recommendation results\n",
    "    for model in ['NeuMF', 'ItemKNN']:\n",
    "        filename = os.listdir('predicted/' + dataset + '/' + country + '/' + model)[0]\n",
    "        df2 = pd.read_csv('predicted/' + dataset + '/' + country + '/' + model + '/' + filename)\n",
    "        df2 = pd.merge(df2, metadata, on=['media_id'], how='left')\n",
    "        proportion_local.append([model,\n",
    "                                 country,\n",
    "                                 df2['country'].value_counts(normalize=True)[country]])\n",
    "        \n",
    "proportion_local = pd.DataFrame(proportion_local, columns=['Data', 'Country', '% local streams'])\n",
    "sns.barplot(proportion_local, x='Country', y='% local streams', hue='Data')"
   ]
  },
  {
   "cell_type": "markdown",
   "id": "d4dba9fb",
   "metadata": {},
   "source": [
    "### Testing which LFM global to choose"
   ]
  },
  {
   "cell_type": "code",
   "execution_count": null,
   "id": "19dcfbc3",
   "metadata": {},
   "outputs": [],
   "source": [
    "# Testing which LFM global to choose\n",
    "\n",
    "proportion_local = []\n",
    "\n",
    "for country in ['FR', 'DE', 'BR']:\n",
    "\n",
    "    for global_version in ['GLOBAL', 'GLOBAL2', 'GLOBAL3']:\n",
    "    \n",
    "        users = pd.read_csv('dataset/LFM_' + global_version + '/demo.txt', delimiter='\\t', names=['user_country', 'age', 'sex', 'date'])\n",
    "        users = users.index[users['user_country'] == country].unique().to_list()\n",
    "    \n",
    "        # original data\n",
    "        df = pd.read_csv('dataset/LFM_' + global_version + '/LFM_' + global_version + '.inter')\n",
    "        df = df.rename(columns={'user_id:token': 'user_id', 'item_id:token': 'media_id'})\n",
    "        df = df[df['user_id'].isin(users)]\n",
    "        metadata = pd.read_csv('dataset/LFM_' + global_version + '/tracks.txt', delimiter='\\t', names=['artist', 'title', 'country'])\n",
    "        metadata['media_id'] = metadata.index\n",
    "        df = pd.merge(df, metadata, on=['media_id'], how='left')\n",
    "        proportion_local.append([country,\n",
    "                                df['country'].value_counts(normalize=True)[country],\n",
    "                                'dataset',\n",
    "                                global_version\n",
    "                                ])\n",
    "\n",
    "        # recommendation results\n",
    "        for model in ['NeuMF', 'ItemKNN']:\n",
    "            filename = os.listdir('predicted/LFM/' + global_version + '/' + model)[0]\n",
    "            df2 = pd.read_csv('predicted/LFM/' + global_version + '/' + model + '/' + filename)\n",
    "            df2 = df2[df2['user_id'].isin(users)]\n",
    "            df2 = pd.merge(df2, metadata, on=['media_id'], how='left')\n",
    "            \n",
    "            proportion_local.append([country,\n",
    "                                df2['country'].value_counts(normalize=True)[country],\n",
    "                                model,\n",
    "                                global_version\n",
    "                                ])\n",
    "\n",
    "proportion_local = pd.DataFrame(proportion_local, columns=['Country', '% local streams', 'data', 'version'])"
   ]
  },
  {
   "cell_type": "code",
   "execution_count": null,
   "id": "d18059b1",
   "metadata": {},
   "outputs": [],
   "source": [
    "sns.barplot(proportion_local[proportion_local['version'] == 'GLOBAL'], x='Country', y='% local streams', hue='data')    "
   ]
  },
  {
   "cell_type": "code",
   "execution_count": null,
   "id": "763d0e2f",
   "metadata": {},
   "outputs": [],
   "source": [
    "sns.barplot(proportion_local[proportion_local['version'] == 'GLOBAL2'], x='Country', y='% local streams', hue='data')    "
   ]
  },
  {
   "cell_type": "code",
   "execution_count": null,
   "id": "763d0e2f",
   "metadata": {},
   "outputs": [],
   "source": [
    "sns.barplot(proportion_local[proportion_local['version'] == 'GLOBAL3'], x='Country', y='% local streams', hue='data')    "
   ]
  },
  {
   "cell_type": "code",
   "execution_count": null,
   "metadata": {},
   "outputs": [],
   "source": [
    "# on garde le dataset 1 car NeuMF Brésil reflette les résultats du papier ismir"
   ]
  },
  {
   "cell_type": "markdown",
   "id": "3021b3e5",
   "metadata": {},
   "source": [
    "### Other"
   ]
  },
  {
   "cell_type": "code",
   "execution_count": 5,
   "id": "05eb0c5c",
   "metadata": {},
   "outputs": [],
   "source": [
    "def extract_top_k_reco(df, k):\n",
    "    n_users = len(df.user_id.unique())\n",
    "    k_max = int(len(df) / n_users)\n",
    "\n",
    "    df['rank'] = list(range(1, k_max + 1)) * n_users\n",
    "\n",
    "    return df[df['rank'] <= k].drop(columns = ['rank'])"
   ]
  },
  {
   "cell_type": "code",
   "execution_count": 7,
   "id": "89f77c75",
   "metadata": {},
   "outputs": [
    {
     "name": "stdout",
     "output_type": "stream",
     "text": [
      "Apr-10-2024_16-56-10.csv\n",
      "Apr-10-2024_16-55-47.csv\n",
      "Apr-10-2024_16-53-22.csv\n",
      "Apr-10-2024_16-53-15.csv\n",
      "Apr-10-2024_17-03-27.csv\n",
      "Apr-10-2024_17-02-54.csv\n",
      "Apr-12-2024_13-04-52.csv\n",
      "Apr-12-2024_13-04-30.csv\n",
      "Apr-12-2024_13-02-06.csv\n",
      "Apr-12-2024_13-01-57.csv\n",
      "Apr-12-2024_13-12-30.csv\n",
      "Apr-12-2024_13-11-54.csv\n",
      "Apr-11-2024_08-29-48.csv\n",
      "Apr-11-2024_08-20-10.csv\n",
      "Apr-11-2024_05-31-19.csv\n",
      "Apr-11-2024_05-19-56.csv\n",
      "Apr-11-2024_12-15-18.csv\n",
      "Apr-11-2024_12-06-34.csv\n",
      "Apr-12-2024_19-14-39.csv\n",
      "Apr-12-2024_19-05-10.csv\n",
      "Apr-12-2024_16-19-16.csv\n",
      "Apr-12-2024_16-08-19.csv\n",
      "Apr-12-2024_22-59-36.csv\n",
      "Apr-12-2024_22-51-02.csv\n"
     ]
    }
   ],
   "source": [
    "\n",
    "for dataset in ['LFM', \"DEEZER\"]:\n",
    "\n",
    "    proportion_local = []\n",
    "\n",
    "    for n_try in range(2):\n",
    "\n",
    "        dataset_local_prop = dict()\n",
    "\n",
    "        for country in ['DE', 'FR', 'BR']:\n",
    "            # original data\n",
    "            f = dataset + '_' + country\n",
    "            df = pd.read_csv('dataset/' + f + '/' + f + '.inter')\n",
    "            df = df.rename(columns={'user_id:token': 'user_id' , 'item_id:token': 'media_id'})\n",
    "            metadata = pd.read_csv('dataset/metadata_' + dataset + '.csv')[['media_id', 'country']]\n",
    "            df = pd.merge(df, metadata, on=['media_id'], how='left')\n",
    "            dataset_local_prop[country] = df['country'].value_counts(normalize=True)[country]\n",
    "            \n",
    "            # recommendation results\n",
    "            for model in ['NeuMF', 'ItemKNN']:\n",
    "                filename = os.listdir('predicted_old/' + dataset + '/' + country + '/' + model)[n_try]\n",
    "                print(filename)\n",
    "                df2 = pd.read_csv('predicted_old/' + dataset + '/' + country + '/' + model + '/' + filename)\n",
    "                df2 = pd.merge(df2, metadata, on=['media_id'], how='left')\n",
    "                \n",
    "                for k in (range(10, 101, 5)):\n",
    "                \n",
    "                    proportion_local_value = extract_top_k_reco(df2, k)['country'].value_counts(normalize=True)[country]\n",
    "                    \n",
    "                    proportion_local.append([model,\n",
    "                                            country,\n",
    "                                            proportion_local_value,\n",
    "                                            k\n",
    "                                            ])\n",
    "\n",
    "\n",
    "    proportion_local = pd.DataFrame(proportion_local, columns=['Data', 'Country', '% local streams', 'k'])\n",
    "\n",
    "    proportion_local = proportion_local.groupby(['Data', 'Country', 'k']).agg({'% local streams': ['mean', 'std']}).reset_index()\n",
    "    proportion_local.columns = ['_'.join(col).strip() for col in proportion_local.columns.values]\n",
    "\n",
    "    proportion_local.columns = ['Data', 'Country', 'k', '% local streams_mean', '% local streams_std']"
   ]
  },
  {
   "cell_type": "code",
   "execution_count": 28,
   "id": "6748dc38",
   "metadata": {},
   "outputs": [
    {
     "data": {
      "application/vnd.plotly.v1+json": {
       "config": {
        "plotlyServerURL": "https://plot.ly"
       },
       "data": [
        {
         "error_y": {
          "array": [
           0,
           0,
           0,
           0,
           0,
           0,
           0,
           0,
           0,
           0,
           0,
           0,
           0,
           0,
           0,
           0,
           0,
           0,
           0
          ]
         },
         "hovertemplate": "Country=BR<br>Data=ItemKNN<br>k=%{x}<br>% local streams_mean=%{y}<extra></extra>",
         "legendgroup": "BR, ItemKNN",
         "line": {
          "color": "#1F77B4",
          "dash": "solid"
         },
         "marker": {
          "symbol": "circle"
         },
         "mode": "lines",
         "name": "BR, ItemKNN",
         "orientation": "v",
         "showlegend": true,
         "type": "scatter",
         "x": [
          10,
          15,
          20,
          25,
          30,
          35,
          40,
          45,
          50,
          55,
          60,
          65,
          70,
          75,
          80,
          85,
          90,
          95,
          100
         ],
         "xaxis": "x",
         "y": [
          0.6503899721448468,
          0.6496536363464769,
          0.6476784456866943,
          0.6445512522111535,
          0.6414492725185672,
          0.6375080697224016,
          0.6333195752504597,
          0.6303791501111186,
          0.6269808697143627,
          0.6234433882670566,
          0.61968626511795,
          0.6158139760438388,
          0.6120644187399971,
          0.60808073020401,
          0.6045602131122321,
          0.6004480410691505,
          0.5960509656691623,
          0.5917972366329542,
          0.5875430395545637
         ],
         "yaxis": "y"
        },
        {
         "error_y": {
          "array": [
           0,
           0,
           0,
           0,
           0,
           0,
           0,
           0,
           0,
           0,
           0,
           0,
           0,
           0,
           0,
           0,
           0,
           0,
           0
          ]
         },
         "hovertemplate": "Country=BR<br>Data=NeuMF<br>k=%{x}<br>% local streams_mean=%{y}<extra></extra>",
         "legendgroup": "BR, NeuMF",
         "line": {
          "color": "#1F77B4",
          "dash": "dot"
         },
         "marker": {
          "symbol": "circle"
         },
         "mode": "lines",
         "name": "BR, NeuMF",
         "orientation": "v",
         "showlegend": true,
         "type": "scatter",
         "x": [
          10,
          15,
          20,
          25,
          30,
          35,
          40,
          45,
          50,
          55,
          60,
          65,
          70,
          75,
          80,
          85,
          90,
          95,
          100
         ],
         "xaxis": "x",
         "y": [
          0.5587349108565068,
          0.5636248495978722,
          0.5663762753777761,
          0.5689556681348747,
          0.5706735964917761,
          0.5719183202682786,
          0.5727645197719021,
          0.573208128895372,
          0.573273515174569,
          0.5736588375688211,
          0.5740721165504934,
          0.5738519514240743,
          0.5739082150494003,
          0.5738203995332463,
          0.5737488275923366,
          0.573418834883398,
          0.5732050675541903,
          0.572747304868529,
          0.5722906519735976
         ],
         "yaxis": "y"
        },
        {
         "error_y": {
          "array": [
           0,
           0,
           0,
           0,
           0,
           0,
           0,
           0,
           0,
           0,
           0,
           0,
           0,
           0,
           0,
           0,
           0,
           0,
           0
          ]
         },
         "hovertemplate": "Country=DE<br>Data=ItemKNN<br>k=%{x}<br>% local streams_mean=%{y}<extra></extra>",
         "legendgroup": "DE, ItemKNN",
         "line": {
          "color": "#FF7F0E",
          "dash": "solid"
         },
         "marker": {
          "symbol": "circle"
         },
         "mode": "lines",
         "name": "DE, ItemKNN",
         "orientation": "v",
         "showlegend": true,
         "type": "scatter",
         "x": [
          10,
          15,
          20,
          25,
          30,
          35,
          40,
          45,
          50,
          55,
          60,
          65,
          70,
          75,
          80,
          85,
          90,
          95,
          100
         ],
         "xaxis": "x",
         "y": [
          0.39600217146845557,
          0.39332238076141934,
          0.38999815212845623,
          0.3852729337460915,
          0.3809097107236778,
          0.3785378481814158,
          0.373937774290828,
          0.3700196035722065,
          0.36621853479681293,
          0.36288859320188704,
          0.35952117263843647,
          0.35715188806473364,
          0.35476798393659653,
          0.3522596686237229,
          0.3501285976729945,
          0.3477189366641538,
          0.3454270630052969,
          0.3436153898547165,
          0.34183404401313533
         ],
         "yaxis": "y"
        },
        {
         "error_y": {
          "array": [
           0,
           0,
           0,
           0,
           0,
           0,
           0,
           0,
           0,
           0,
           0,
           0,
           0,
           0,
           0,
           0,
           0,
           0,
           0
          ]
         },
         "hovertemplate": "Country=DE<br>Data=NeuMF<br>k=%{x}<br>% local streams_mean=%{y}<extra></extra>",
         "legendgroup": "DE, NeuMF",
         "line": {
          "color": "#FF7F0E",
          "dash": "dot"
         },
         "marker": {
          "symbol": "circle"
         },
         "mode": "lines",
         "name": "DE, NeuMF",
         "orientation": "v",
         "showlegend": true,
         "type": "scatter",
         "x": [
          10,
          15,
          20,
          25,
          30,
          35,
          40,
          45,
          50,
          55,
          60,
          65,
          70,
          75,
          80,
          85,
          90,
          95,
          100
         ],
         "xaxis": "x",
         "y": [
          0.3608123066443391,
          0.3598987805105795,
          0.3586915784067406,
          0.3568947263944948,
          0.354824828444949,
          0.3534114409247814,
          0.3520828004842532,
          0.3505049588776004,
          0.34868354973301807,
          0.3478805050816138,
          0.34651029038624187,
          0.3451482179949142,
          0.3439867460770548,
          0.34282686948966246,
          0.3418070764153758,
          0.3410259946327321,
          0.3401707841497227,
          0.33952745062203277,
          0.3387904864765989
         ],
         "yaxis": "y"
        },
        {
         "error_y": {
          "array": [
           0,
           0,
           0,
           0,
           0,
           0,
           0,
           0,
           0,
           0,
           0,
           0,
           0,
           0,
           0,
           0,
           0,
           0,
           0
          ]
         },
         "hovertemplate": "Country=FR<br>Data=ItemKNN<br>k=%{x}<br>% local streams_mean=%{y}<extra></extra>",
         "legendgroup": "FR, ItemKNN",
         "line": {
          "color": "#2CA02C",
          "dash": "solid"
         },
         "marker": {
          "symbol": "circle"
         },
         "mode": "lines",
         "name": "FR, ItemKNN",
         "orientation": "v",
         "showlegend": true,
         "type": "scatter",
         "x": [
          10,
          15,
          20,
          25,
          30,
          35,
          40,
          45,
          50,
          55,
          60,
          65,
          70,
          75,
          80,
          85,
          90,
          95,
          100
         ],
         "xaxis": "x",
         "y": [
          0.5147950483168067,
          0.512069129438112,
          0.5083552094155716,
          0.5062586749181852,
          0.5041795756123224,
          0.5026500880321843,
          0.5015901844613975,
          0.5004380341880342,
          0.4991911462612983,
          0.49855591345409733,
          0.4966730241728099,
          0.49587369576883794,
          0.49471468973930705,
          0.4934592758093006,
          0.4923966169579215,
          0.49132294287524997,
          0.4901770851271454,
          0.4891048412341949,
          0.48795302529096335
         ],
         "yaxis": "y"
        },
        {
         "error_y": {
          "array": [
           0,
           0,
           0,
           0,
           0,
           0,
           0,
           0,
           0,
           0,
           0,
           0,
           0,
           0,
           0,
           0,
           0,
           0,
           0
          ]
         },
         "hovertemplate": "Country=FR<br>Data=NeuMF<br>k=%{x}<br>% local streams_mean=%{y}<extra></extra>",
         "legendgroup": "FR, NeuMF",
         "line": {
          "color": "#2CA02C",
          "dash": "dot"
         },
         "marker": {
          "symbol": "circle"
         },
         "mode": "lines",
         "name": "FR, NeuMF",
         "orientation": "v",
         "showlegend": true,
         "type": "scatter",
         "x": [
          10,
          15,
          20,
          25,
          30,
          35,
          40,
          45,
          50,
          55,
          60,
          65,
          70,
          75,
          80,
          85,
          90,
          95,
          100
         ],
         "xaxis": "x",
         "y": [
          0.5134812891040019,
          0.5114913276692377,
          0.5105810039514123,
          0.5106224027641593,
          0.5102965675519294,
          0.510216088469631,
          0.5101057507606557,
          0.5100769512641994,
          0.5099804314369082,
          0.5099613189520262,
          0.5097551123746427,
          0.5093211120423703,
          0.5091775091013541,
          0.5088968301421546,
          0.5086038215711804,
          0.5083006441517941,
          0.507707399463945,
          0.5074961220647201,
          0.5068843236680557
         ],
         "yaxis": "y"
        }
       ],
       "layout": {
        "annotations": [
         {
          "showarrow": false,
          "text": "BR dataset",
          "x": 1,
          "xanchor": "right",
          "xref": "x domain",
          "y": 0.5,
          "yanchor": "top",
          "yref": "y"
         },
         {
          "showarrow": false,
          "text": "DE dataset",
          "x": 1,
          "xanchor": "right",
          "xref": "x domain",
          "y": 0.8,
          "yanchor": "top",
          "yref": "y"
         },
         {
          "showarrow": false,
          "text": "FR dataset",
          "x": 1,
          "xanchor": "right",
          "xref": "x domain",
          "y": 0.4,
          "yanchor": "top",
          "yref": "y"
         }
        ],
        "height": 700,
        "legend": {
         "title": {
          "text": "Country, Data"
         },
         "tracegroupgap": 0
        },
        "margin": {
         "t": 60
        },
        "shapes": [
         {
          "line": {
           "color": "blue",
           "dash": "dash"
          },
          "type": "line",
          "x0": 0,
          "x1": 1,
          "xref": "x domain",
          "y0": 0.5,
          "y1": 0.5,
          "yref": "y"
         },
         {
          "line": {
           "color": "orange",
           "dash": "dash"
          },
          "type": "line",
          "x0": 0,
          "x1": 1,
          "xref": "x domain",
          "y0": 0.8,
          "y1": 0.8,
          "yref": "y"
         },
         {
          "line": {
           "color": "green",
           "dash": "dash"
          },
          "type": "line",
          "x0": 0,
          "x1": 1,
          "xref": "x domain",
          "y0": 0.4,
          "y1": 0.4,
          "yref": "y"
         }
        ],
        "template": {
         "data": {
          "scatter": [
           {
            "type": "scatter"
           }
          ]
         }
        },
        "width": 1000,
        "xaxis": {
         "anchor": "y",
         "domain": [
          0,
          1
         ],
         "title": {
          "text": "k"
         }
        },
        "yaxis": {
         "anchor": "x",
         "domain": [
          0,
          1
         ],
         "title": {
          "text": "% local streams_mean"
         }
        }
       }
      },
      "text/html": [
       "<div>                            <div id=\"3bbdbd42-3d32-4e9f-9264-ae5317eb0062\" class=\"plotly-graph-div\" style=\"height:700px; width:1000px;\"></div>            <script type=\"text/javascript\">                require([\"plotly\"], function(Plotly) {                    window.PLOTLYENV=window.PLOTLYENV || {};                                    if (document.getElementById(\"3bbdbd42-3d32-4e9f-9264-ae5317eb0062\")) {                    Plotly.newPlot(                        \"3bbdbd42-3d32-4e9f-9264-ae5317eb0062\",                        [{\"error_y\":{\"array\":[0.0,0.0,0.0,0.0,0.0,0.0,0.0,0.0,0.0,0.0,0.0,0.0,0.0,0.0,0.0,0.0,0.0,0.0,0.0]},\"hovertemplate\":\"Country=BR\\u003cbr\\u003eData=ItemKNN\\u003cbr\\u003ek=%{x}\\u003cbr\\u003e% local streams_mean=%{y}\\u003cextra\\u003e\\u003c\\u002fextra\\u003e\",\"legendgroup\":\"BR, ItemKNN\",\"line\":{\"color\":\"#1F77B4\",\"dash\":\"solid\"},\"marker\":{\"symbol\":\"circle\"},\"mode\":\"lines\",\"name\":\"BR, ItemKNN\",\"orientation\":\"v\",\"showlegend\":true,\"x\":[10,15,20,25,30,35,40,45,50,55,60,65,70,75,80,85,90,95,100],\"xaxis\":\"x\",\"y\":[0.6503899721448468,0.6496536363464769,0.6476784456866943,0.6445512522111535,0.6414492725185672,0.6375080697224016,0.6333195752504597,0.6303791501111186,0.6269808697143627,0.6234433882670566,0.61968626511795,0.6158139760438388,0.6120644187399971,0.60808073020401,0.6045602131122321,0.6004480410691505,0.5960509656691623,0.5917972366329542,0.5875430395545637],\"yaxis\":\"y\",\"type\":\"scatter\"},{\"error_y\":{\"array\":[0.0,0.0,0.0,0.0,0.0,0.0,0.0,0.0,0.0,0.0,0.0,0.0,0.0,0.0,0.0,0.0,0.0,0.0,0.0]},\"hovertemplate\":\"Country=BR\\u003cbr\\u003eData=NeuMF\\u003cbr\\u003ek=%{x}\\u003cbr\\u003e% local streams_mean=%{y}\\u003cextra\\u003e\\u003c\\u002fextra\\u003e\",\"legendgroup\":\"BR, NeuMF\",\"line\":{\"color\":\"#1F77B4\",\"dash\":\"dot\"},\"marker\":{\"symbol\":\"circle\"},\"mode\":\"lines\",\"name\":\"BR, NeuMF\",\"orientation\":\"v\",\"showlegend\":true,\"x\":[10,15,20,25,30,35,40,45,50,55,60,65,70,75,80,85,90,95,100],\"xaxis\":\"x\",\"y\":[0.5587349108565068,0.5636248495978722,0.5663762753777761,0.5689556681348747,0.5706735964917761,0.5719183202682786,0.5727645197719021,0.573208128895372,0.573273515174569,0.5736588375688211,0.5740721165504934,0.5738519514240743,0.5739082150494003,0.5738203995332463,0.5737488275923366,0.573418834883398,0.5732050675541903,0.572747304868529,0.5722906519735976],\"yaxis\":\"y\",\"type\":\"scatter\"},{\"error_y\":{\"array\":[0.0,0.0,0.0,0.0,0.0,0.0,0.0,0.0,0.0,0.0,0.0,0.0,0.0,0.0,0.0,0.0,0.0,0.0,0.0]},\"hovertemplate\":\"Country=DE\\u003cbr\\u003eData=ItemKNN\\u003cbr\\u003ek=%{x}\\u003cbr\\u003e% local streams_mean=%{y}\\u003cextra\\u003e\\u003c\\u002fextra\\u003e\",\"legendgroup\":\"DE, ItemKNN\",\"line\":{\"color\":\"#FF7F0E\",\"dash\":\"solid\"},\"marker\":{\"symbol\":\"circle\"},\"mode\":\"lines\",\"name\":\"DE, ItemKNN\",\"orientation\":\"v\",\"showlegend\":true,\"x\":[10,15,20,25,30,35,40,45,50,55,60,65,70,75,80,85,90,95,100],\"xaxis\":\"x\",\"y\":[0.39600217146845557,0.39332238076141934,0.38999815212845623,0.3852729337460915,0.3809097107236778,0.3785378481814158,0.373937774290828,0.3700196035722065,0.36621853479681293,0.36288859320188704,0.35952117263843647,0.35715188806473364,0.35476798393659653,0.3522596686237229,0.3501285976729945,0.3477189366641538,0.3454270630052969,0.3436153898547165,0.34183404401313533],\"yaxis\":\"y\",\"type\":\"scatter\"},{\"error_y\":{\"array\":[0.0,0.0,0.0,0.0,0.0,0.0,0.0,0.0,0.0,0.0,0.0,0.0,0.0,0.0,0.0,0.0,0.0,0.0,0.0]},\"hovertemplate\":\"Country=DE\\u003cbr\\u003eData=NeuMF\\u003cbr\\u003ek=%{x}\\u003cbr\\u003e% local streams_mean=%{y}\\u003cextra\\u003e\\u003c\\u002fextra\\u003e\",\"legendgroup\":\"DE, NeuMF\",\"line\":{\"color\":\"#FF7F0E\",\"dash\":\"dot\"},\"marker\":{\"symbol\":\"circle\"},\"mode\":\"lines\",\"name\":\"DE, NeuMF\",\"orientation\":\"v\",\"showlegend\":true,\"x\":[10,15,20,25,30,35,40,45,50,55,60,65,70,75,80,85,90,95,100],\"xaxis\":\"x\",\"y\":[0.3608123066443391,0.3598987805105795,0.3586915784067406,0.3568947263944948,0.354824828444949,0.3534114409247814,0.3520828004842532,0.3505049588776004,0.34868354973301807,0.3478805050816138,0.34651029038624187,0.3451482179949142,0.3439867460770548,0.34282686948966246,0.3418070764153758,0.3410259946327321,0.3401707841497227,0.33952745062203277,0.3387904864765989],\"yaxis\":\"y\",\"type\":\"scatter\"},{\"error_y\":{\"array\":[0.0,0.0,0.0,0.0,0.0,0.0,0.0,0.0,0.0,0.0,0.0,0.0,0.0,0.0,0.0,0.0,0.0,0.0,0.0]},\"hovertemplate\":\"Country=FR\\u003cbr\\u003eData=ItemKNN\\u003cbr\\u003ek=%{x}\\u003cbr\\u003e% local streams_mean=%{y}\\u003cextra\\u003e\\u003c\\u002fextra\\u003e\",\"legendgroup\":\"FR, ItemKNN\",\"line\":{\"color\":\"#2CA02C\",\"dash\":\"solid\"},\"marker\":{\"symbol\":\"circle\"},\"mode\":\"lines\",\"name\":\"FR, ItemKNN\",\"orientation\":\"v\",\"showlegend\":true,\"x\":[10,15,20,25,30,35,40,45,50,55,60,65,70,75,80,85,90,95,100],\"xaxis\":\"x\",\"y\":[0.5147950483168067,0.512069129438112,0.5083552094155716,0.5062586749181852,0.5041795756123224,0.5026500880321843,0.5015901844613975,0.5004380341880342,0.4991911462612983,0.49855591345409733,0.4966730241728099,0.49587369576883794,0.49471468973930705,0.4934592758093006,0.4923966169579215,0.49132294287524997,0.4901770851271454,0.4891048412341949,0.48795302529096335],\"yaxis\":\"y\",\"type\":\"scatter\"},{\"error_y\":{\"array\":[0.0,0.0,0.0,0.0,0.0,0.0,0.0,0.0,0.0,0.0,0.0,0.0,0.0,0.0,0.0,0.0,0.0,0.0,0.0]},\"hovertemplate\":\"Country=FR\\u003cbr\\u003eData=NeuMF\\u003cbr\\u003ek=%{x}\\u003cbr\\u003e% local streams_mean=%{y}\\u003cextra\\u003e\\u003c\\u002fextra\\u003e\",\"legendgroup\":\"FR, NeuMF\",\"line\":{\"color\":\"#2CA02C\",\"dash\":\"dot\"},\"marker\":{\"symbol\":\"circle\"},\"mode\":\"lines\",\"name\":\"FR, NeuMF\",\"orientation\":\"v\",\"showlegend\":true,\"x\":[10,15,20,25,30,35,40,45,50,55,60,65,70,75,80,85,90,95,100],\"xaxis\":\"x\",\"y\":[0.5134812891040019,0.5114913276692377,0.5105810039514123,0.5106224027641593,0.5102965675519294,0.510216088469631,0.5101057507606557,0.5100769512641994,0.5099804314369082,0.5099613189520262,0.5097551123746427,0.5093211120423703,0.5091775091013541,0.5088968301421546,0.5086038215711804,0.5083006441517941,0.507707399463945,0.5074961220647201,0.5068843236680557],\"yaxis\":\"y\",\"type\":\"scatter\"}],                        {\"template\":{\"data\":{\"scatter\":[{\"type\":\"scatter\"}]}},\"xaxis\":{\"anchor\":\"y\",\"domain\":[0.0,1.0],\"title\":{\"text\":\"k\"}},\"yaxis\":{\"anchor\":\"x\",\"domain\":[0.0,1.0],\"title\":{\"text\":\"% local streams_mean\"}},\"legend\":{\"title\":{\"text\":\"Country, Data\"},\"tracegroupgap\":0},\"margin\":{\"t\":60},\"height\":700,\"width\":1000,\"shapes\":[{\"line\":{\"color\":\"blue\",\"dash\":\"dash\"},\"type\":\"line\",\"x0\":0,\"x1\":1,\"xref\":\"x domain\",\"y0\":0.5,\"y1\":0.5,\"yref\":\"y\"},{\"line\":{\"color\":\"orange\",\"dash\":\"dash\"},\"type\":\"line\",\"x0\":0,\"x1\":1,\"xref\":\"x domain\",\"y0\":0.8,\"y1\":0.8,\"yref\":\"y\"},{\"line\":{\"color\":\"green\",\"dash\":\"dash\"},\"type\":\"line\",\"x0\":0,\"x1\":1,\"xref\":\"x domain\",\"y0\":0.4,\"y1\":0.4,\"yref\":\"y\"}],\"annotations\":[{\"showarrow\":false,\"text\":\"BR dataset\",\"x\":1,\"xanchor\":\"right\",\"xref\":\"x domain\",\"y\":0.5,\"yanchor\":\"top\",\"yref\":\"y\"},{\"showarrow\":false,\"text\":\"DE dataset\",\"x\":1,\"xanchor\":\"right\",\"xref\":\"x domain\",\"y\":0.8,\"yanchor\":\"top\",\"yref\":\"y\"},{\"showarrow\":false,\"text\":\"FR dataset\",\"x\":1,\"xanchor\":\"right\",\"xref\":\"x domain\",\"y\":0.4,\"yanchor\":\"top\",\"yref\":\"y\"}]},                        {\"responsive\": true}                    ).then(function(){\n",
       "                            \n",
       "var gd = document.getElementById('3bbdbd42-3d32-4e9f-9264-ae5317eb0062');\n",
       "var x = new MutationObserver(function (mutations, observer) {{\n",
       "        var display = window.getComputedStyle(gd).display;\n",
       "        if (!display || display === 'none') {{\n",
       "            console.log([gd, 'removed!']);\n",
       "            Plotly.purge(gd);\n",
       "            observer.disconnect();\n",
       "        }}\n",
       "}});\n",
       "\n",
       "// Listen for the removal of the full notebook cells\n",
       "var notebookContainer = gd.closest('#notebook-container');\n",
       "if (notebookContainer) {{\n",
       "    x.observe(notebookContainer, {childList: true});\n",
       "}}\n",
       "\n",
       "// Listen for the clearing of the current output cell\n",
       "var outputEl = gd.closest('.output');\n",
       "if (outputEl) {{\n",
       "    x.observe(outputEl, {childList: true});\n",
       "}}\n",
       "\n",
       "                        })                };                });            </script>        </div>"
      ]
     },
     "metadata": {},
     "output_type": "display_data"
    }
   ],
   "source": [
    "import plotly.express as px\n",
    "\n",
    "fig = px.line(\n",
    "    proportion_local,\n",
    "    color=\"Country\",\n",
    "    y=\"% local streams_mean\",\n",
    "    error_y=\"% local streams_std\",\n",
    "    x=\"k\",\n",
    "    line_dash=\"Data\",\n",
    "    template=\"none\",\n",
    "    height=700,\n",
    "    width=1000,\n",
    ")\n",
    "\n",
    "fig.add_hline(\n",
    "    y=0.5,\n",
    "    line_dash=\"dash\",\n",
    "    line_color=\"blue\",\n",
    "    annotation_text=\"BR dataset\",\n",
    "    annotation_position=\"bottom right\",\n",
    ")\n",
    "fig.add_hline(\n",
    "    y=0.8,\n",
    "    line_dash=\"dash\",\n",
    "    line_color=\"orange\",\n",
    "    annotation_text=\"DE dataset\",\n",
    "    annotation_position=\"bottom right\",\n",
    ")\n",
    "fig.add_hline(\n",
    "    y=0.4,\n",
    "    line_dash=\"dash\",\n",
    "    line_color=\"green\",\n",
    "    annotation_text=\"FR dataset\",\n",
    "    annotation_position=\"bottom right\",\n",
    ")\n",
    "\n",
    "fig.show()"
   ]
  },
  {
   "cell_type": "code",
   "execution_count": null,
   "id": "01c65775",
   "metadata": {},
   "outputs": [],
   "source": []
  }
 ],
 "metadata": {
  "kernelspec": {
   "display_name": "Python 3 (ipykernel)",
   "language": "python",
   "name": "python3"
  },
  "language_info": {
   "codemirror_mode": {
    "name": "ipython",
    "version": 3
   },
   "file_extension": ".py",
   "mimetype": "text/x-python",
   "name": "python",
   "nbconvert_exporter": "python",
   "pygments_lexer": "ipython3",
   "version": "3.10.12"
  }
 },
 "nbformat": 4,
 "nbformat_minor": 5
}
