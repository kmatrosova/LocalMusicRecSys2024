{
 "cells": [
  {
   "cell_type": "code",
   "execution_count": null,
   "id": "646fd506-5a10-4bc4-9b2e-d317fbda3e1c",
   "metadata": {},
   "outputs": [],
   "source": [
    "import pandas as pd\n",
    "from recbole.quick_start.quick_start import load_data_and_model\n",
    "from recbole.utils.case_study import *"
   ]
  },
  {
   "cell_type": "code",
   "execution_count": null,
   "id": "5147448d-8467-46c3-8dc3-32e1e2dc361b",
   "metadata": {
    "tags": []
   },
   "outputs": [],
   "source": [
    "k = 10\n",
    "\n",
    "for platform in ['LFM', 'DEEZER']:\n",
    "    for country in ['GLOBAL', 'FR', 'DE', 'BR']:\n",
    "        for model in ['ItemKNN', 'NeuMF']:\n",
    "\n",
    "            # load prediction data, interactions and users\n",
    "            print(platform, country, model)\n",
    "            config, model, dataset, train_data, valid_data, test_data = load_data_and_model(\n",
    "                    model_file='saved/' + platform + '/' + country + '/' + model + '.pth',\n",
    "                )\n",
    "            inter = pd.read_csv('dataset/' + platform + '_' + country + '/' + platform + '_' + country + '.inter')\n",
    "            users = inter['user_id:token'].unique().tolist()\n",
    "\n",
    "            # for each user, get top k predictions \n",
    "            res = []\n",
    "            for i, u in enumerate(users):\n",
    "                uid_series = dataset.token2id(dataset.uid_field, [str(u)])\n",
    "                try:\n",
    "                    topk_score, topk_iid_list = full_sort_topk(uid_series, model, test_data, k=10, device=config['device'])\n",
    "                    # get the item id corresponding to the recbole item id\n",
    "                    external_item_list = dataset.id2token(dataset.iid_field, topk_iid_list.cpu())\n",
    "                    for j in range(0,k):\n",
    "                        res.append([u, external_item_list[0][j].item(), topk_score[0][j].item()])\n",
    "                except:\n",
    "                    print('smth went wrong')\n",
    "                if i%1000 == 0:\n",
    "                    print(i)\n",
    "    \n",
    "            df = pd.DataFrame(res, columns=['user_id', 'media_id', 'score'])\n",
    "            df.to_csv('predicted/' + algo + '/' + dataset_name + '.csv')"
   ]
  },
  {
   "cell_type": "code",
   "execution_count": null,
   "id": "d2d03824-a240-4391-91f1-22b3766c7421",
   "metadata": {},
   "outputs": [],
   "source": []
  }
 ],
 "metadata": {
  "kernelspec": {
   "display_name": ".venv",
   "language": "python",
   "name": "python3"
  },
  "language_info": {
   "codemirror_mode": {
    "name": "ipython",
    "version": 3
   },
   "file_extension": ".py",
   "mimetype": "text/x-python",
   "name": "python",
   "nbconvert_exporter": "python",
   "pygments_lexer": "ipython3",
   "version": "3.10.12"
  }
 },
 "nbformat": 4,
 "nbformat_minor": 5
}
